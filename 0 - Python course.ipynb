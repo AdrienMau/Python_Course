{
 "cells": [
  {
   "cell_type": "markdown",
   "id": "d2c5f61b",
   "metadata": {},
   "source": [
    "# Python Introductory Course"
   ]
  },
  {
   "cell_type": "markdown",
   "id": "ef45397a",
   "metadata": {},
   "source": [
    "In this first part, I will introduce the basics of Python, then focus on functions and lists.\n",
    "\n",
    "As any programming language, Python can be mastered if you invest in learning the language but also practice it. This lesson will focus on the language itself, but do not hesitate to try to write small code at each step, to test your new knowledge, memorize and get used to Python !"
   ]
  },
  {
   "cell_type": "markdown",
   "id": "8d01376f",
   "metadata": {},
   "source": [
    "## The basics"
   ]
  },
  {
   "cell_type": "markdown",
   "id": "b3b94500",
   "metadata": {},
   "source": [
    "The first thing everyone wants to do is to be able to define variables, and to look at them.\n",
    "One can simply define a variable - be it a number or a string (text) - with :"
   ]
  },
  {
   "cell_type": "code",
   "execution_count": 3,
   "id": "d8e3659d",
   "metadata": {
    "scrolled": true
   },
   "outputs": [],
   "source": [
    "a = 1\n",
    "name = \"Introduction\""
   ]
  },
  {
   "cell_type": "markdown",
   "id": "9e312080",
   "metadata": {},
   "source": [
    "As you can see, the syntax in python is pretty straighforward. There is no need to specify the object's type, and no need to finish every line with a <font size=\"3\">  __\\;__ </font>\n",
    "\n",
    "For strings, you need to include your text in either __'__ or __\"__ characters.\n",
    "\n",
    "\n",
    "A variable can be displayed with the function print. This will print the variable in the Ipython console."
   ]
  },
  {
   "cell_type": "code",
   "execution_count": 4,
   "id": "5a5897ae",
   "metadata": {},
   "outputs": [
    {
     "name": "stdout",
     "output_type": "stream",
     "text": [
      "1\n",
      "Introduction\n"
     ]
    }
   ],
   "source": [
    "print(a)\n",
    "print(name)"
   ]
  },
  {
   "cell_type": "markdown",
   "id": "7abe8af5",
   "metadata": {},
   "source": [
    "Try to define some variables and to print them in the IPython console, this should be straightforward.\n",
    "\n",
    "You can also print variable consecutively by adding comas, such as print (a,name).\n",
    "\n",
    "Note that in Python, variable do not have a fixed type. You can do :"
   ]
  },
  {
   "cell_type": "code",
   "execution_count": 1,
   "id": "a6101622",
   "metadata": {
    "scrolled": true
   },
   "outputs": [
    {
     "name": "stdout",
     "output_type": "stream",
     "text": [
      "<class 'int'>\n",
      "<class 'float'>\n",
      "<class 'str'>\n",
      "<class 'bool'>\n"
     ]
    }
   ],
   "source": [
    "x = 1 + 2\n",
    "print( type(x) )\n",
    "\n",
    "x = 1/2\n",
    "print( type(x) )\n",
    "\n",
    "x = 'Hello !'\n",
    "print( type(x) )\n",
    "\n",
    "x = True      #here x is a boolean, a variable that can only be 'True' or 'False'. \n",
    "print( type(x) )  "
   ]
  },
  {
   "cell_type": "markdown",
   "id": "c988489a",
   "metadata": {},
   "source": [
    "Notice the use of <font size=\"3\">  __\\#__ </font> to add comments to the code. It is a good practice ! Not so much for lines, but for sections of your code. (a reader can easily understand one specific line, but not the purpose of a group of lines).\n",
    "\n",
    "You can see that summing integers will keep the type as being integers. However doing 1/2 will automatically cast the variable to a float (number with decimals). Python tries to convert the type when need be, in some other languages you would find that 1/2 = 1. In fact, types can be the source of many unexpected problems, and it is always a good practice to keep them in mind.\n",
    "\n",
    "\n",
    "\n",
    "A list of types to remember are :  \n",
    "\n",
    "1. **unsigned integer** (uint) : such as  0, 1, 12, 145 ... They are integer numbers, positive  \n",
    "2. **integer** (int) : such as -2, 0, -1, 10, ... They are integer numbers, positive or negative.  \n",
    "3. **float** and double integer : such as  1.2, 0.0, 3.1415 ... They are numbers with decimal, and a finite precision.  \n",
    "\n",
    "The precision is given in a final number '8' for example 8 means 8 bit. A unsigned integer __uint8__ take values from 0 to 255 (2^8-1). If the object's type is hard-coded doing 255 + 1 will result in 0, going out of range of your type. Fortunately, Python will generally protect you from this kind of behaviour.\n",
    "\n"
   ]
  },
  {
   "cell_type": "markdown",
   "id": "4f18a328",
   "metadata": {},
   "source": [
    "If you need to shift between numbers, booleans or strings, you will usally use :**int()** , **float()**, **str()**  and **bool()**."
   ]
  },
  {
   "cell_type": "code",
   "execution_count": 11,
   "id": "bdd8c327",
   "metadata": {
    "scrolled": true
   },
   "outputs": [
    {
     "name": "stdout",
     "output_type": "stream",
     "text": [
      "200\n",
      "2.53\n",
      "I got 3 apples\n",
      "False\n"
     ]
    }
   ],
   "source": [
    "int_num = int( '200' ) #convert the string 200 to an integer\n",
    "print( int_num )\n",
    "\n",
    "float_num = float( '2.53' ) #convert the string 2.53 to a float\n",
    "print( float_num )\n",
    "\n",
    "n_apples = 3\n",
    "print('I got ' + str( n_apples ) + ' apples')\n",
    "\n",
    "false_bool = bool( 0 )\n",
    "print( false_bool )\n"
   ]
  },
  {
   "cell_type": "markdown",
   "id": "ebea1ea4",
   "metadata": {},
   "source": [
    "You can notice that we used both functions (int(), float() ...) but also a built-in operator ***+*** from Python.\n",
    "\n",
    "In Python, operators such as addition __+__, multiplication  <font size=\"4\"> <b>*</b></font> and power <font size=\"4\"> <b>**</b></font> are already defined, not only for numbers but also for other type of objects. Addition can be performed on strings and will concatenate them. For booleans, addition correspond to (OR) and multiplication to (AND).\n",
    "\n",
    "Can you guess what will be the results of the following prints ? "
   ]
  },
  {
   "cell_type": "code",
   "execution_count": 12,
   "id": "98b198b6",
   "metadata": {
    "scrolled": true
   },
   "outputs": [
    {
     "name": "stdout",
     "output_type": "stream",
     "text": [
      "9\n",
      "0.25\n",
      "0.0\n",
      "\n",
      "\n",
      "True is the same as 1\n",
      "False is the same as 0\n",
      "True\n",
      "False\n",
      "\n",
      "\n",
      "JeanBon\n",
      "BonBon\n"
     ]
    }
   ],
   "source": [
    "#number operation\n",
    "x = 2\n",
    "print( (x+1)**2 ) \n",
    "print( (x)**-2 ) \n",
    "print( x**1/2-1 )\n",
    "\n",
    "\n",
    "#boolean operation\n",
    "t = True\n",
    "f = False\n",
    "print('\\n') # '\\n' skips a line in the print.\n",
    "print( t or f , 'is the same as' , t+f )\n",
    "print( t and f , 'is the same as' , t*f )\n",
    "print( 1 == 1 )  # \"==\" checks an equality between two objects.\n",
    "print( 0 != False )  # \"!=\" checks an inequality between two objects.\n",
    "\n",
    "\n",
    "#string operation\n",
    "name = 'Jean'\n",
    "surname = 'Bon'\n",
    "print('\\n') #skip a line in the print.\n",
    "print( name + surname )\n",
    "print( 2 * surname )\n",
    "\n",
    "\n"
   ]
  },
  {
   "cell_type": "markdown",
   "id": "1881e1f1",
   "metadata": {},
   "source": [
    "Did you guess it right ? \n",
    "\n",
    "As you can see, number operation is relatively straighforward. Python follows the same priority notation of mathematics: power first, then multiplication and addition.\n",
    "\n",
    "For booleans, operation will convert it to a number. There is an equivalence between **0** and **False**, and between **1** and **True** (So if you guessed True and not '1', you're not wrong ! ). If need be, you can use the *bool()* function to convert a number back to a boolean. Note that False is only associated to 0, so that any other numbers will return True.\n",
    "\n",
    "For strings, **+** will concatenate them. <font size=\"3\">  * </font> However will duplicate them a number of times.\n",
    "\n",
    "\n",
    "However you cannot add a number to a string. Python has its limits..."
   ]
  },
  {
   "cell_type": "code",
   "execution_count": 170,
   "id": "b8cd0d57",
   "metadata": {
    "scrolled": true
   },
   "outputs": [
    {
     "ename": "TypeError",
     "evalue": "unsupported operand type(s) for +: 'int' and 'str'",
     "output_type": "error",
     "traceback": [
      "\u001b[1;31m---------------------------------------------------------------------------\u001b[0m",
      "\u001b[1;31mTypeError\u001b[0m                                 Traceback (most recent call last)",
      "\u001b[1;32m~\\AppData\\Local\\Temp\\ipykernel_4948\\2583676770.py\u001b[0m in \u001b[0;36m<module>\u001b[1;34m\u001b[0m\n\u001b[1;32m----> 1\u001b[1;33m \u001b[0mprint\u001b[0m\u001b[1;33m(\u001b[0m \u001b[1;36m1\u001b[0m \u001b[1;33m+\u001b[0m \u001b[1;34m'1'\u001b[0m\u001b[1;33m)\u001b[0m\u001b[1;33m\u001b[0m\u001b[1;33m\u001b[0m\u001b[0m\n\u001b[0m",
      "\u001b[1;31mTypeError\u001b[0m: unsupported operand type(s) for +: 'int' and 'str'"
     ]
    }
   ],
   "source": [
    "print( 1 + '1')"
   ]
  },
  {
   "cell_type": "markdown",
   "id": "8878ec5e",
   "metadata": {},
   "source": [
    "## General Syntax"
   ]
  },
  {
   "cell_type": "markdown",
   "id": "0c6fe3d9",
   "metadata": {},
   "source": [
    "Apart from variables, Python also has simple syntax to create ***for*** and ***while*** loops:\n",
    "1. ***For*** is followed by an *enumerator*, and ***while*** is followed by a *boolean*\n",
    "2. The enumerator or the boolean is then followed by the symbol <font size=\"4.2\">**:**</font> \n",
    "3. Indentation (A tabulation or four white spaces) indicates what lies within the for/while loop.\n"
   ]
  },
  {
   "cell_type": "code",
   "execution_count": null,
   "id": "9868b07e",
   "metadata": {},
   "outputs": [],
   "source": [
    "#Calculating the sum of integers from 0 to n, in a for loop :\n",
    "my_sum = 0\n",
    "n = 10\n",
    "for k in range(0,n+1):   #range will enumerate numbers from 0 to n\n",
    "    my_sum = my_sum + k\n",
    "\n",
    "print( my_sum )\n",
    "print( n*(n+1)/2 )"
   ]
  },
  {
   "cell_type": "code",
   "execution_count": 17,
   "id": "ad051f42",
   "metadata": {
    "scrolled": true
   },
   "outputs": [
    {
     "name": "stdout",
     "output_type": "stream",
     "text": [
      "55\n",
      "55.0\n"
     ]
    }
   ],
   "source": [
    "#Calculating the sum of integers from 0 to n, in a while loop :\n",
    "my_sum = 0\n",
    "n = 10\n",
    "k = 0\n",
    "while (k<=n):  \n",
    "    my_sum = my_sum + k\n",
    "    k = k+1\n",
    "\n",
    "print( my_sum )\n",
    "print( n*(n+1)/2 )"
   ]
  },
  {
   "cell_type": "markdown",
   "id": "7579edce",
   "metadata": {},
   "source": [
    "As you can see, we get the same result as the theoretical formula ! \n",
    "You can notice that we use a new operator : ***<=***. It returns true if the left value is inferior to the right one.\n",
    "\n",
    "Finally, to check for conditions you can use the ***if*** / ***else*** syntax. The use of *if* and *else* is relatively similar to *for* and *while* :"
   ]
  },
  {
   "cell_type": "code",
   "execution_count": 19,
   "id": "bdb49f62",
   "metadata": {},
   "outputs": [
    {
     "name": "stdout",
     "output_type": "stream",
     "text": [
      "a is superior to 10\n"
     ]
    }
   ],
   "source": [
    "a = 2**10\n",
    "if a>1000:\n",
    "    print('a is superior to 10')\n",
    "else:\n",
    "    pass # does nothing."
   ]
  },
  {
   "cell_type": "markdown",
   "id": "bb35ab2e",
   "metadata": {},
   "source": [
    "Now you know how to perform calculus in Python, as well as for and while loops ! \n",
    "To practice your new knowledge, you can try to approximate a value of pi by using the formula:\n",
    "<font size=\"3\">$$ \\frac{\\pi}{4} = \\sum_{k=0}^{\\infty}{ (-1)^{k} \\over (2k+1) } $$\n",
    "\n",
    "You can make use of the abs() function : **abs(a) = |a|**. If possible, try to reach a given decimal precision.    \n",
    "Note that this function will always get closer to pi, so that no iteration will give a worse estimate than the previous one.\n",
    "    \n",
    "Good luck !  \n",
    "    \n",
    "    \n",
    "<details>\n",
    "  <summary>**Get a tip by clicking here !**</summary>\n",
    "  \n",
    "  *You could keep in memory two values for pi: one for the last estimate, and one for the previous estimate.\n",
    "  You do not know when the decimal will be reached, so it may be better to use a while loop.\n",
    "  What condition can you put ?*\n",
    "\n",
    "</details>\n",
    "    \n",
    "\n",
    "<details>\n",
    "  <summary>**Big tip by clicking here !**</summary>\n",
    "  \n",
    "  *As a condition of the loop, check that the difference between the new and previous estimate is below a given threshold. Inside the loop, you will add one more term to the estimate, as well as updating the value of the previous estimate*\n",
    "\n",
    "</details>\n",
    "    \n",
    "    \n"
   ]
  },
  {
   "cell_type": "markdown",
   "id": "89c67897",
   "metadata": {},
   "source": [
    "Solution below : "
   ]
  },
  {
   "cell_type": "code",
   "execution_count": 21,
   "id": "2c3db8e4",
   "metadata": {
    "scrolled": true
   },
   "outputs": [
    {
     "name": "stdout",
     "output_type": "stream",
     "text": [
      "3.141598\n"
     ]
    }
   ],
   "source": [
    "#Approximating pi via a finite serie : pi/4 = sum of (-1)**k / (2k+1)\n",
    "pi_estimate = 0\n",
    "previous_pi_estimate = 1\n",
    "k = 0\n",
    "while( abs(pi_estimate - previous_pi_estimate)> 1e-5 ):\n",
    "    previous_pi_estimate = pi_estimate\n",
    "    pi_estimate = previous_pi_estimate + 4*(-1)**k / (2*k+1)\n",
    "    k += 1 # similar to writing k = k + 1\n",
    "\n",
    "print( round(pi_estimate,6) )  #print a rounded pi, at 5th decimal."
   ]
  },
  {
   "cell_type": "markdown",
   "id": "d63cd9fa",
   "metadata": {},
   "source": [
    "Congratulation, you now know the general syntax of Python ! However you will soon need to write functions, to encapsulate your code and make it more readable. This will be performed in the next step ! "
   ]
  },
  {
   "cell_type": "markdown",
   "id": "920e5c20",
   "metadata": {},
   "source": [
    "# Functions"
   ]
  },
  {
   "cell_type": "markdown",
   "id": "b8c5d158",
   "metadata": {},
   "source": [
    "You can notice that we used a function ***abs*** that we did not define. We also used functions to convert from one type to another. Python indeed possesses a lot of built-in functions. We will go through some of them right now, learn to define our own functions, then more functions related to lists and strings will be presented in the next section.\n",
    "\n",
    "Again, try to determine what will be the output. Remember that the purpose of ***int*** is only to convert to an integer."
   ]
  },
  {
   "cell_type": "code",
   "execution_count": 23,
   "id": "9d68d65e",
   "metadata": {
    "scrolled": false
   },
   "outputs": [
    {
     "name": "stdout",
     "output_type": "stream",
     "text": [
      "2\n",
      "3\n",
      "2.7\n"
     ]
    }
   ],
   "source": [
    "a = 2.68\n",
    "print( int(a) )\n",
    "print( round(a) )\n",
    "print( round(a,1) )\n",
    "\n"
   ]
  },
  {
   "cell_type": "markdown",
   "id": "357f6d26",
   "metadata": {},
   "source": [
    "You can see that ***int()*** converts a number to an integer, but does not return the closest integer. This can be a source of error for most beginners. Either use ***round()*** or ***int(a+0.5)***. \n",
    "\n",
    "Another useful function is **locals()**, which returns a collection of all defined variables. Typically if you want to analyse your data but not reload it everytime, you can implement a routine such as:\n",
    "\n",
    "    if not( 'loaded_data' in locals() ):  \n",
    "         loaded_data = load_data()  \n",
    "     else:  \n",
    "         print('Using previously loaded data')\n",
    "         \n",
    "See an example use : "
   ]
  },
  {
   "cell_type": "code",
   "execution_count": 27,
   "id": "717df0aa",
   "metadata": {},
   "outputs": [
    {
     "name": "stdout",
     "output_type": "stream",
     "text": [
      "\n",
      "Is the variable \"a\" defined ? \n",
      "True\n",
      "\n",
      "Deleting a\n",
      "\n",
      "Is the variable \"a\" defined ? \n",
      "False\n"
     ]
    }
   ],
   "source": [
    "a = 2.68\n",
    "\n",
    "print('\\nIs the variable \"a\" defined ? ')\n",
    "print( 'a' in locals() ) #locals() is a dictionnary of all defined variables in the workspace.\n",
    "\n",
    "print('\\nDeleting a')\n",
    "del(a) #removes a from the workspace\n",
    "\n",
    "print('\\nIs the variable \"a\" defined ? ')\n",
    "print( 'a' in locals() ) #"
   ]
  },
  {
   "cell_type": "markdown",
   "id": "2c8a5d4e",
   "metadata": {},
   "source": [
    "Finally, as in any language you can define your own functions. This is done with the syntax ***def()***.  \n",
    "\n",
    "Functions can take multiple parameters as inputs, and return as well multiple outputs. The function is finished once it executes a line starting with return."
   ]
  },
  {
   "cell_type": "code",
   "execution_count": 174,
   "id": "714ac08e",
   "metadata": {
    "scrolled": true
   },
   "outputs": [
    {
     "name": "stdout",
     "output_type": "stream",
     "text": [
      "Solutions are 1.0 and -3.0\n"
     ]
    }
   ],
   "source": [
    "def solve_polynom_second( a, b, c):\n",
    "    \"\"\" Solve a polynom ax² + bx + c = 0 . return possible x \"\"\"\n",
    "    delta = (b**2 - 4*a*c)\n",
    "    sol1 =  ( -b+ delta**(0.5) )/ (2*a)\n",
    "    sol2 =  ( -b- delta**(0.5) )/ (2*a)\n",
    "    return ( sol1, sol2)\n",
    "\n",
    "a0 = 1\n",
    "b0 = 2\n",
    "c0 = -3\n",
    "# solve x² + 2x -3 = 0  :\n",
    "x1,x2 = solve_polynom_second( a=a0, b=b0, c=c0 )  # returning the two outputs in variables x1 and x2\n",
    "print( 'Solutions are', x1,'and', x2 )\n",
    "\n"
   ]
  },
  {
   "cell_type": "markdown",
   "id": "eed39914",
   "metadata": {},
   "source": [
    "Here the output of the function is a **tuple** (sol1,sol2) , which is a collection of elements. You can either collect the tuple itself in a unique variable, or inject it in different variables, here x1 and x2.\n",
    "\n",
    "When calling the function, you can explicity assign a variable to a function argument with the syntax ***'arg=my_var'***. In the above example we explicitly set the argument **a** of the function with our locally defined variable **a0**. However we could have written : x1,x2 = solve_polynom_second( 1, 2, 3)  and get the same result : in this case Python will assign the arguments in the order they were defined. (a, then b then c).\n",
    "\n",
    "It is often useful to define default parameters by adding '=' after the definition of each input.\n",
    "If you update an old function but want to keep its old behaviour for back compatibility, you can set the default value of a new parameter to match with the old behaviour.\n",
    "For example if you now need to filter out complex solutions, but used them in a previous code, you can do :"
   ]
  },
  {
   "cell_type": "code",
   "execution_count": 29,
   "id": "80e08317",
   "metadata": {},
   "outputs": [
    {
     "name": "stdout",
     "output_type": "stream",
     "text": [
      "Real solutions : (None, None)\n",
      "All solutions : ((6.123233995736766e-17+1j), (-6.123233995736766e-17-1j))\n"
     ]
    }
   ],
   "source": [
    "def solve_polynom_second( a=0, b=0, c=0, return_complex_sol = True ):\n",
    "    \"\"\" Solve a polynom ax² + bx + c = 0 . return possible x \n",
    "    return_complex_sol: if False, complex solutions are replaced with None. \"\"\"\n",
    "    delta = (b**2 - 4*a*c)\n",
    "    sol1 =  ( -b+ delta**(0.5) )/ (2*a)\n",
    "    sol2 =  ( -b- delta**(0.5) )/ (2*a)\n",
    "    \n",
    "    if return_complex_sol:\n",
    "        return (sol1, sol2)\n",
    "    else: #filtering complex solutions\n",
    "        if type(sol1)==complex:\n",
    "            sol1 = None\n",
    "        if type(sol2)==complex:\n",
    "            sol2 = None\n",
    "        return (sol1, sol2)\n",
    "\n",
    "\n",
    "# solve x² = -1 :\n",
    "sols = solve_polynom_second( a=1, c=1, return_complex_sol=False)  # returning the two outputs in sols.\n",
    "print('Real solutions :', sols )\n",
    "\n",
    "csols = solve_polynom_second( a=1, c=1, return_complex_sol=True)  # returning the two outputs in sols.\n",
    "print( 'All solutions :',csols )"
   ]
  },
  {
   "cell_type": "markdown",
   "id": "2434b505",
   "metadata": {},
   "source": [
    "You can see that complex numbers are written in the format __a + b\\*1j__, where __j__ replaces the complex number __i__. <br /> \n",
    "Due to rounding during calculation, Python find a non-zero value for the real part, which is still relatively small (E-17). You could use round to clean them up.\n",
    "Finally, we used the variable **None**, this indicates in general an absence of value. Is is also often used as default parameter in functions."
   ]
  },
  {
   "cell_type": "markdown",
   "id": "2b3723be",
   "metadata": {},
   "source": [
    "Now that you know how to write functions, you probably know what's next... try to write your own ! As an exercice, implement a factorial function, that returns the factorial of an integer.\n",
    "\n",
    "Solution below :"
   ]
  },
  {
   "cell_type": "code",
   "execution_count": 39,
   "id": "bb246f51",
   "metadata": {
    "scrolled": false
   },
   "outputs": [
    {
     "name": "stdout",
     "output_type": "stream",
     "text": [
      "Factorial of  0  is  1\n",
      "Factorial of  1  is  1\n",
      "Factorial of  2  is  2\n",
      "Factorial of  3  is  6\n",
      "Factorial of  4  is  24\n",
      "Factorial of  5  is  120\n"
     ]
    }
   ],
   "source": [
    "def factorial( n ):\n",
    "    \"\"\" Returns the factorial of an integer. \"\"\"\n",
    "    if n==0 or n==1:\n",
    "        return 1\n",
    "    else:\n",
    "        value = 1\n",
    "        for k in range(2,n+1):\n",
    "            value = value * k\n",
    "        return value\n",
    "\n",
    "\n",
    "for n in range(0,6):\n",
    "    print('Factorial of ', n , ' is ', factorial(n) )"
   ]
  },
  {
   "cell_type": "markdown",
   "id": "13f45402",
   "metadata": {},
   "source": [
    "Of course, you can also call a function within a function. Python also handles recursive calls :"
   ]
  },
  {
   "cell_type": "code",
   "execution_count": 40,
   "id": "1a8cec01",
   "metadata": {},
   "outputs": [
    {
     "name": "stdout",
     "output_type": "stream",
     "text": [
      "Factorial of  0  is  1\n",
      "Factorial of  1  is  1\n",
      "Factorial of  2  is  2\n",
      "Factorial of  3  is  6\n",
      "Factorial of  4  is  24\n",
      "Factorial of  5  is  120\n"
     ]
    }
   ],
   "source": [
    "def factorial( n ):\n",
    "    \"\"\" Returns the factorial of an integer. \"\"\"\n",
    "    if n==0 or n==1:\n",
    "        return 1\n",
    "    else:\n",
    "        return n * factorial(n-1)\n",
    "\n",
    "\n",
    "for n in range(0,6):\n",
    "    print('Factorial of ', n , ' is ', factorial(n) )"
   ]
  },
  {
   "cell_type": "markdown",
   "id": "9365ab2b",
   "metadata": {},
   "source": [
    "# Handling Lists and strings"
   ]
  },
  {
   "cell_type": "markdown",
   "id": "01bd2def",
   "metadata": {},
   "source": [
    "### Lengthy objects : \n",
    "\n",
    "**Strings** and **lists** are both objects with a length. A string can be thought of as a list of characters.\n",
    "Both will be very useful to order your data. Notably list can contain any kind of object.\n",
    "\n",
    "Here is how you can define one, and get some information about it :"
   ]
  },
  {
   "cell_type": "code",
   "execution_count": 41,
   "id": "f70510db",
   "metadata": {
    "scrolled": false
   },
   "outputs": [
    {
     "name": "stdout",
     "output_type": "stream",
     "text": [
      "Length of string is  6\n",
      "Length of list is  5\n",
      "P\n",
      "y\n",
      "t\n",
      "h\n",
      "o\n",
      "n\n"
     ]
    }
   ],
   "source": [
    "name = 'Python'\n",
    "my_list = [ 1, 2, 3, 4, 5 ] #defining a list in Python\n",
    "\n",
    "print( 'Length of string is ', len(name) )  #len is a built-in function that returns the length of an object\n",
    "print( 'Length of list is ', len(my_list) )  \n",
    "\n",
    "#We can use a for structure to iterate over name's elements : \n",
    "for letters in name:\n",
    "    print(letters)\n"
   ]
  },
  {
   "cell_type": "markdown",
   "id": "a5c562a6",
   "metadata": {},
   "source": [
    "A useful built-in function is **enumerate()**, which will return both positions and elements of an object :"
   ]
  },
  {
   "cell_type": "code",
   "execution_count": 42,
   "id": "9dfb6c7c",
   "metadata": {},
   "outputs": [
    {
     "name": "stdout",
     "output_type": "stream",
     "text": [
      "Printing list elements and position\n",
      "1 is at position 0\n",
      "2 is at position 1\n",
      "3 is at position 2\n",
      "5 is at position 3\n",
      "8 is at position 4\n"
     ]
    }
   ],
   "source": [
    "# Tip : you can iterate over elements in the list as well as keeping a position index\n",
    "\n",
    "#Creating a list and iterating over elements in the list :\n",
    "some_list = [ 1, 2, 3, 5, 8 ]\n",
    "print('Printing list elements and position')\n",
    "for pos,n in enumerate(some_list):\n",
    "    print(n, 'is at position', pos)"
   ]
  },
  {
   "cell_type": "markdown",
   "id": "f4617496",
   "metadata": {},
   "source": [
    "Note that the first element is at position 0, and not 1. Indeed in Python, indexing starts at **0**.\n",
    "\n",
    "### Indexing :\n",
    "For indexing, Python has a lot of tricks : You can also use negative indexing, which will return the position starting from the end of the object. This saves a lot of time not having to type len(object)-1 everytime !\n",
    "\n",
    "Let's look at some examples :"
   ]
  },
  {
   "cell_type": "code",
   "execution_count": 43,
   "id": "a112e122",
   "metadata": {},
   "outputs": [
    {
     "name": "stdout",
     "output_type": "stream",
     "text": [
      "0\n",
      "9\n",
      "[1, 2, 3, 4, 5, 6, 7, 8, 9]\n",
      "[1, 3, 5, 7, 9]\n",
      "[10, 9, 8, 7, 6, 5, 4, 3, 2, 1, 0]\n"
     ]
    }
   ],
   "source": [
    "some_list = [0, 1, 2, 3, 4, 5, 6, 7, 8, 9, 10]\n",
    "print( some_list[0] )  #first element \n",
    "print( some_list[-2] )   # second last element\n",
    "print( some_list[1:-1] )   # second to second last element. Remember the operator ':' , it is quite useful !\n",
    "print( some_list[1::2] )  # second to last element, by steps of two\n",
    "print( some_list[::-1] )  # first to last element, by steps of minus one"
   ]
  },
  {
   "cell_type": "markdown",
   "id": "d1707a23",
   "metadata": {},
   "source": [
    "Indexing convention can be tricky, but it is a great tool once mastered ! \n",
    "\n",
    "Lists can also be created in a fast way by calling functions inside the brackets **[ ]**.\n",
    "This can be used to created a particular list, or to filter elements from a list."
   ]
  },
  {
   "cell_type": "code",
   "execution_count": 44,
   "id": "0b56b2e8",
   "metadata": {},
   "outputs": [
    {
     "name": "stdout",
     "output_type": "stream",
     "text": [
      "List is : [0, 1, 2, 3, 4, 5, 6, 7, 8, 9, 10]\n",
      "Odd elements :  [0, 2, 4, 6, 8, 10]\n"
     ]
    }
   ],
   "source": [
    "some_list = [ n for n in range(0,11) ]\n",
    "print('List is :', some_list)\n",
    "\n",
    "even_elements = [ s for s in some_list if (s%2)==0 ]   # % is the rest after euclidian division. s%2=0 => s is even.\n",
    "print( 'Odd elements : ', even_elements )\n"
   ]
  },
  {
   "cell_type": "markdown",
   "id": "bfa4a4ca",
   "metadata": {},
   "source": [
    "The advantage of this notation is that it is quite explicit, and saves time and space not having to set a for loop. You will see this used a lot in Python.\n",
    "\n",
    "### Manipulating lists : \n",
    "\n",
    "\n",
    "You can perform a number of useful operations on lists to insert or remove elements.\n",
    "Notably the most useful functions are **append()**, **insert()** and **remove()**. The sort() function can also be used to set your list in ascending order.\n"
   ]
  },
  {
   "cell_type": "code",
   "execution_count": 45,
   "id": "20d4c536",
   "metadata": {},
   "outputs": [
    {
     "name": "stdout",
     "output_type": "stream",
     "text": [
      "[6, 5, 3, 2, None, 1, -1]\n",
      "[6, 5, 4, 3, 2, None, 1, -1] #inserted 4 \n",
      "[6, 5, 4, 3, 2, 1, -1] #removed None\n",
      "[6, 5, 4, 3, 2, 1] #popped\n",
      "[6, 5, 4, 3, 2, 1, 0] #appended 0\n",
      "[0, 1, 2, 3, 4, 5, 6] #sorted list\n"
     ]
    }
   ],
   "source": [
    "some_list = [6, 5, 3 , 2, None, 1, -1]\n",
    "\n",
    "print(some_list)\n",
    "\n",
    "some_list.insert(2,4) #insert 4 at position 2\n",
    "print(some_list ,'#inserted 4 ')\n",
    "\n",
    "some_list.remove( None ) #remove element from list.\n",
    "print(some_list,'#removed None')\n",
    "\n",
    "some_list.pop( ) #remove last element from list.\n",
    "print(some_list,'#popped')\n",
    "\n",
    "some_list.append(0) #append 0 at the end of the list\n",
    "print(some_list,'#appended 0')\n",
    "\n",
    "some_list.sort() # sort list in ascending order\n",
    "print(some_list,'#sorted list')"
   ]
  },
  {
   "cell_type": "markdown",
   "id": "eaf270e8",
   "metadata": {},
   "source": [
    "You may note that all of these functions are linked to the list object : you do not call *append(list,0)* but *list.append(0)*. You are in fact already using object-oriented programming when you use lists. They are objects having their own methods (functions), and attributes (variables).\n",
    "\n",
    "\n",
    "To look for a specific element in a list you can use **index()** and **in** : "
   ]
  },
  {
   "cell_type": "code",
   "execution_count": 46,
   "id": "4b1648c6",
   "metadata": {},
   "outputs": [
    {
     "name": "stdout",
     "output_type": "stream",
     "text": [
      "5 is at position  5\n",
      "10 in list ? :  True\n"
     ]
    }
   ],
   "source": [
    "some_list = [0, 1, 2, 3, 4, 5, 6, 7, 8, 9, 10]\n",
    "\n",
    "print('5 is at position ', some_list.index( 5 ) ) #note: if 5 is not found, an error is returned.\n",
    "print('10 in list ? : ', 10 in some_list  )\n"
   ]
  },
  {
   "cell_type": "markdown",
   "id": "a4adb9cb",
   "metadata": {},
   "source": [
    "This also works with strings:"
   ]
  },
  {
   "cell_type": "code",
   "execution_count": 49,
   "id": "042106d1",
   "metadata": {
    "scrolled": true
   },
   "outputs": [
    {
     "name": "stdout",
     "output_type": "stream",
     "text": [
      "True\n",
      "13\n",
      "13\n",
      "-1\n"
     ]
    }
   ],
   "source": [
    "filename = \"Manip_retina_mouse.txt\"\n",
    "print( 'mouse' in filename )\n",
    "\n",
    "print( filename.index('mouse') ) #this works on string as well as lists.\n",
    "print( filename.find('mouse') ) #for string, find() can replace the index function.\n",
    "\n",
    "print( filename.find('pork') ) # if find doesnt succeed, it will return '-1'\n"
   ]
  },
  {
   "cell_type": "markdown",
   "id": "4cbf662f",
   "metadata": {},
   "source": [
    "This is all you need to know to handles lists, but also any object having a length in general !\n",
    "\n",
    "One last thing to be careful of, is that lists are not stored in the same way as simple variables.\n",
    "Consider this portion of code, what do you expect the ***prints*** to show ? :"
   ]
  },
  {
   "cell_type": "code",
   "execution_count": 50,
   "id": "bacb72aa",
   "metadata": {},
   "outputs": [
    {
     "name": "stdout",
     "output_type": "stream",
     "text": [
      "1\n",
      "[2, 4, 8]\n"
     ]
    }
   ],
   "source": [
    "a = 1\n",
    "b = a\n",
    "b = b+1\n",
    "print(a)\n",
    "\n",
    "l = [2,8,4]\n",
    "m = l\n",
    "m.sort()\n",
    "print(l)\n"
   ]
  },
  {
   "cell_type": "markdown",
   "id": "b55457bd",
   "metadata": {},
   "source": [
    "Modifying the list **m** also changed the original list **l** !\n",
    "This is because in Python, list are manipulated as a pointer to the memory of your computer. The line m=l does not copy the list, but sets the location of the memory to the variable m. This is great for memory efficiency, but may result in errors for an unaware programmer.\n",
    "If you want to copy the content of the list, you should then use the method **.copy()**\n"
   ]
  },
  {
   "cell_type": "code",
   "execution_count": 52,
   "id": "26a0c382",
   "metadata": {},
   "outputs": [
    {
     "name": "stdout",
     "output_type": "stream",
     "text": [
      "[2, 8, 4]\n"
     ]
    }
   ],
   "source": [
    "l2 = [2,8,4]\n",
    "m2 = l.copy()\n",
    "m2.sort()\n",
    "print(l2)"
   ]
  },
  {
   "cell_type": "markdown",
   "id": "fe57b364",
   "metadata": {},
   "source": [
    "That's all, you are now a professionnal of the Python list ! \n",
    "\n",
    "As a final exercice, try to obtain the list **b**  using the list **a** to obtain the list in at least two different ways !"
   ]
  },
  {
   "cell_type": "code",
   "execution_count": 57,
   "id": "09f13c23",
   "metadata": {},
   "outputs": [],
   "source": [
    "a = [8, 2, 1, 5, 8, 16]\n",
    "\n",
    "# we want to get :\n",
    "b = [16, 8,  5 , 2]"
   ]
  },
  {
   "cell_type": "markdown",
   "id": "5a90cf9e",
   "metadata": {},
   "source": [
    "Some possible solutions below :"
   ]
  },
  {
   "cell_type": "code",
   "execution_count": 68,
   "id": "1eb8c10d",
   "metadata": {},
   "outputs": [
    {
     "name": "stdout",
     "output_type": "stream",
     "text": [
      "[16, 8, 5, 2]\n"
     ]
    }
   ],
   "source": [
    "b2 = a.copy() #make a copy of a.\n",
    "\n",
    "num = b2.pop() #removing 16 and keeping its value in the variable num.\n",
    "b2.remove( 8 ) #we get : [2, 1, 5, 8] (this removes only the first '8')\n",
    "b2.remove( 1 ) #we get : [ 2, 5, 8]\n",
    "b2.remove( 2 ) #we get : [5, 8]\n",
    "b2 = b2[::-1]\n",
    "b2.append( 2 ) #we get : [8, 5, 2]\n",
    "b2.insert(0, num ) #we get : [16, 8, 5, 2] \n",
    "\n",
    "print(b2)"
   ]
  },
  {
   "cell_type": "code",
   "execution_count": 81,
   "id": "e181fa32",
   "metadata": {},
   "outputs": [
    {
     "name": "stdout",
     "output_type": "stream",
     "text": [
      "[16, 8, 5, 2]\n"
     ]
    }
   ],
   "source": [
    "b2 = [ elem for elem in a[1:] if elem>=2 ]  # we get [2, 5, 8, 16]\n",
    "b2[0] = a[1] # we get [2, 5, 8, 16]\n",
    "b2 = b2[::-1] # reverse array.\n",
    "print(b2)"
   ]
  },
  {
   "cell_type": "code",
   "execution_count": 80,
   "id": "e470bde0",
   "metadata": {},
   "outputs": [
    {
     "name": "stdout",
     "output_type": "stream",
     "text": [
      "[16, 8, 5, 2]\n"
     ]
    }
   ],
   "source": [
    "#Another way\n",
    "b2 = a[-1::-2] #a from last element to first, every two elements\n",
    "b2.insert(1,8)\n",
    "print(b2)"
   ]
  },
  {
   "cell_type": "code",
   "execution_count": 72,
   "id": "59c40bcc",
   "metadata": {},
   "outputs": [
    {
     "name": "stdout",
     "output_type": "stream",
     "text": [
      "[16, 8, 5, 2]\n"
     ]
    }
   ],
   "source": [
    "#The pythonic way :\n",
    "b2 = [ a[n] for n in [-1,4,3,1] ]\n",
    "print(b2)"
   ]
  },
  {
   "cell_type": "markdown",
   "id": "6891aca6",
   "metadata": {},
   "source": [
    "# Conclusion\n",
    "\n"
   ]
  },
  {
   "cell_type": "markdown",
   "id": "4cc164f9",
   "metadata": {},
   "source": [
    "Python is an ergonomic and flexible language, that is relatively straightforward to use. You can now use both its fundamental syntax, but also manipulate different types of element. However to manipulate scientific data it is often necessary to be able to perform specific mathematical operations on them, but also to display the results.\n",
    "This will be done in a next step with numpy and matplotlib !"
   ]
  }
 ],
 "metadata": {
  "kernelspec": {
   "display_name": "Python 3 (ipykernel)",
   "language": "python",
   "name": "python3"
  },
  "language_info": {
   "codemirror_mode": {
    "name": "ipython",
    "version": 3
   },
   "file_extension": ".py",
   "mimetype": "text/x-python",
   "name": "python",
   "nbconvert_exporter": "python",
   "pygments_lexer": "ipython3",
   "version": "3.7.12"
  }
 },
 "nbformat": 4,
 "nbformat_minor": 5
}
